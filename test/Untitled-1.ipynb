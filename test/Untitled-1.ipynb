{
 "cells": [
  {
   "cell_type": "code",
   "execution_count": 1,
   "metadata": {},
   "outputs": [],
   "source": [
    "import folium\n",
    "\n",
    "# 创建一个地图对象，设置初始位置和缩放级别\n",
    "map_center = [39.9042, 116.4074]  # 北京的经纬度\n",
    "m = folium.Map(location=map_center, zoom_start=10)\n",
    "\n",
    "# 添加标注\n",
    "folium.Marker(\n",
    "    location=[39.9042, 116.4074],\n",
    "    popup='北京',\n",
    "    icon=folium.Icon(color='blue')\n",
    ").add_to(m)\n",
    "\n",
    "folium.Marker(\n",
    "    location=[31.2304, 121.4737],\n",
    "    popup='上海',\n",
    "    icon=folium.Icon(color='red')\n",
    ").add_to(m)\n",
    "\n",
    "# 保存地图到HTML文件\n",
    "m.save('map.html')\n",
    "\n",
    "# 在 Jupyter Notebook 中显示地图\n",
    "# m\n"
   ]
  },
  {
   "cell_type": "code",
   "execution_count": 2,
   "metadata": {},
   "outputs": [],
   "source": [
    "\n",
    "import pandas as pd\n",
    "\n",
    "LOC_PATH = r\"../data/loc_source.csv\"\n",
    "dfLocations = pd.read_csv(LOC_PATH)"
   ]
  },
  {
   "cell_type": "code",
   "execution_count": 6,
   "metadata": {},
   "outputs": [
    {
     "data": {
      "text/plain": [
       "32.154674501992034"
      ]
     },
     "execution_count": 6,
     "metadata": {},
     "output_type": "execute_result"
    }
   ],
   "source": [
    "dfLocations['纬度'].mean()"
   ]
  }
 ],
 "metadata": {
  "kernelspec": {
   "display_name": "Python 3",
   "language": "python",
   "name": "python3"
  },
  "language_info": {
   "codemirror_mode": {
    "name": "ipython",
    "version": 3
   },
   "file_extension": ".py",
   "mimetype": "text/x-python",
   "name": "python",
   "nbconvert_exporter": "python",
   "pygments_lexer": "ipython3",
   "version": "3.10.0"
  }
 },
 "nbformat": 4,
 "nbformat_minor": 2
}
